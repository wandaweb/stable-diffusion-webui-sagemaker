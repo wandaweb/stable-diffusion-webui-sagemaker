{
 "cells": [
  {
   "cell_type": "markdown",
   "id": "cde84736-33ea-41fb-97d6-801331d0cf88",
   "metadata": {},
   "source": [
    "# Automatic1111's Stable Diffusion WebUI - SageMaker Studio Lab Notebook\n",
    "\n",
    "This notebook on GitHub: https://github.com/wandaweb/stable-diffusion-webui-sagemaker  \n",
    "Automatic1111's WebUI: https://github.com/AUTOMATIC1111/stable-diffusion-webui  \n",
    "\n",
    "---\n",
    "Connect with us for updates! - https://pogscafe.bio.link"
   ]
  },
  {
   "cell_type": "markdown",
   "id": "f137a625-b2e1-48d4-b115-74ff2fb0585a",
   "metadata": {},
   "source": [
    "## Installation"
   ]
  },
  {
   "cell_type": "code",
   "execution_count": null,
   "id": "b4e76687-4bd8-4c44-92d5-780c78741a1f",
   "metadata": {
    "tags": []
   },
   "outputs": [],
   "source": [
    "!mkdir /home/studio-lab-user/Auto1111\n",
    "%cd /home/studio-lab-user/Auto1111\n",
    "!git clone https://github.com/AUTOMATIC1111/stable-diffusion-webui\n",
    "%cd stable-diffusion-webui\n",
    "#!git checkout tags/v1.10.1 # Remove this line to use the latest code\n",
    "!pip install -r requirements.txt\n",
    "!conda install -y conda-forge::glib\n",
    "!pip install --force-reinstall setuptools==69.5.1"
   ]
  },
  {
   "cell_type": "code",
   "execution_count": null,
   "id": "c12a9940-8c09-4a1b-8ae0-c2ab77adb291",
   "metadata": {
    "tags": []
   },
   "outputs": [],
   "source": [
    "#!python launch.py --skip-torch-cuda-test --share # This won't work"
   ]
  },
  {
   "cell_type": "markdown",
   "id": "d7eea923-e295-4eac-8b55-ecf774741aae",
   "metadata": {},
   "source": [
    "## Download a model to the temporary folder\n",
    "\n",
    "How to download any model from CivitAI - https://youtu.be/mbNZ5AWy0sc"
   ]
  },
  {
   "cell_type": "code",
   "execution_count": null,
   "id": "c51281d5-fbfb-42ed-8b34-c79ab58c6e0b",
   "metadata": {
    "tags": []
   },
   "outputs": [],
   "source": [
    "# HelloWorld SDXL model\n",
    "!wget \"https://civitai.com/api/download/models/456751\" \\\n",
    " -O /tmp/model.safetensors\n",
    "!ln -s /tmp/model.safetensors /home/studio-lab-user/Auto1111/stable-diffusion-webui/models/Stable-diffusion/"
   ]
  },
  {
   "cell_type": "code",
   "execution_count": null,
   "id": "c33a4ea0-a7a0-4bcc-9f07-db20eac5d87c",
   "metadata": {},
   "outputs": [],
   "source": [
    "# Stable Diffusion 1.5\n",
    "!wget \"https://huggingface.co/stable-diffusion-v1-5/stable-diffusion-v1-5/resolve/main/v1-5-pruned.safetensors?download=true\" -O /tmp/v1-5.safetensors\n",
    "!ln -s /tmp/v1-5.safetensors /home/studio-lab-user/Auto1111/stable-diffusion-webui/models/Stable-diffusion/"
   ]
  },
  {
   "cell_type": "markdown",
   "id": "43c5d45d-40f0-465c-88a8-a525af3fa57a",
   "metadata": {},
   "source": [
    "# Start with Pinggy"
   ]
  },
  {
   "cell_type": "code",
   "execution_count": null,
   "id": "e55f7804-de11-4a70-a489-d11177449346",
   "metadata": {
    "tags": []
   },
   "outputs": [],
   "source": [
    "# Install SSH (only needs to run once)\n",
    "!conda config --add channels conda-forge\n",
    "!conda config --set channel_priority strict\n",
    "!conda install -y openssh"
   ]
  },
  {
   "cell_type": "code",
   "execution_count": null,
   "id": "dbc6fe4a-531d-40c2-b4f9-e714db32635b",
   "metadata": {},
   "outputs": [],
   "source": [
    "# Download the start-up script\n",
    "!wget https://raw.githubusercontent.com/wandaweb/jupyter-webui-tunneling/main/pinggy.py -O /home/studio-lab-user/Auto1111/pinggy.py"
   ]
  },
  {
   "cell_type": "code",
   "execution_count": null,
   "id": "856cc160-1cbf-408a-9298-a88ca4115de8",
   "metadata": {
    "tags": []
   },
   "outputs": [],
   "source": [
    "# Start the WebUI in GPU mode with Pinggy\n",
    "%cd /home/studio-lab-user/Auto1111/stable-diffusion-webui\n",
    "\n",
    "!python /home/studio-lab-user/Auto1111/pinggy.py --command='python launch.py --skip-torch-cuda-test' --port='7860'"
   ]
  },
  {
   "cell_type": "code",
   "execution_count": null,
   "id": "c508f4b2-2256-405f-92d9-8002a1f4e0d4",
   "metadata": {},
   "outputs": [],
   "source": [
    "# Start the WebUI in CPU only mode with Pinggy\n",
    "%cd /home/studio-lab-user/Auto1111/stable-diffusion-webui\n",
    "\n",
    "!python /home/studio-lab-user/Auto1111/pinggy.py --command='python launch.py --use-cpu all --no-half --skip-torch-cuda-test --enable-insecure-extension-access' --port='7860'\n"
   ]
  },
  {
   "cell_type": "markdown",
   "id": "728f0f89-deb5-490c-8a0a-21190067fa68",
   "metadata": {},
   "source": [
    "# Start with Zrok"
   ]
  },
  {
   "cell_type": "markdown",
   "id": "f4391dac-9f37-4e87-bfcc-9d70b7c051ca",
   "metadata": {},
   "source": [
    "### Install Zrok (only needs to run once)"
   ]
  },
  {
   "cell_type": "code",
   "execution_count": null,
   "id": "d3f761df-f02d-47d8-8588-b5118d11f8f1",
   "metadata": {
    "tags": []
   },
   "outputs": [],
   "source": [
    "# Install Zrok (only needs to run once)\n",
    "\n",
    "!mkdir /home/studio-lab-user/zrok\n",
    "%cd /home/studio-lab-user/zrok\n",
    "!wget https://github.com/openziti/zrok/releases/download/v1.0.4/zrok_1.0.4_linux_amd64.tar.gz\n",
    "!tar -xvf ./zrok*.gz \n",
    "!chmod a+x /home/studio-lab-user/zrok/zrok "
   ]
  },
  {
   "cell_type": "markdown",
   "id": "bf602587-2ea5-4726-a662-3d89ec82cd97",
   "metadata": {},
   "source": [
    "### Create a Zrok account\n",
    "Enter your email address in the email variable"
   ]
  },
  {
   "cell_type": "code",
   "execution_count": null,
   "id": "80d0d756-9a6e-4aac-bdc7-4bee9647d528",
   "metadata": {},
   "outputs": [],
   "source": [
    "email = '####@gmail.com' # replace with your email\n",
    "\n",
    "cmd = '/home/studio-lab-user/zrok/zrok invite'\n",
    "log = '/home/studio-lab-user/zrok/log.txt'\n",
    "\n",
    "!pip install pexpect\n",
    "!touch $log\n",
    "\n",
    "import pexpect\n",
    "import time\n",
    "child = pexpect.spawn('bash')\n",
    "child.sendline(f'{cmd} | tee {log}')\n",
    "child.expect('enter and confirm your email address...')\n",
    "time.sleep(1); child.sendline(email); time.sleep(1); child.send(chr(9)); time.sleep(1)\n",
    "child.sendline(email); time.sleep(1); child.send('\\n'); time.sleep(1); child.send(chr(9))\n",
    "time.sleep(1); child.send('\\r\\n'); time.sleep(2); child.close()\n",
    "!cat $log\n",
    "!rm $log"
   ]
  },
  {
   "cell_type": "markdown",
   "id": "0fd14c5f-918c-4f99-8b82-f99780e39e48",
   "metadata": {},
   "source": [
    "### Enable Zrok (only needs to run once)\n",
    "Paste your Zrok token in the token variable"
   ]
  },
  {
   "cell_type": "code",
   "execution_count": null,
   "id": "b7befdfa-3c1b-41cc-9619-51f2c168bad9",
   "metadata": {},
   "outputs": [],
   "source": [
    "# Enable Zrok (only neeeds to run once)\n",
    "# Paste your Zrok token in the token variable\n",
    "\n",
    "token = \"\"\n",
    "\n",
    "!/home/studio-lab-user/zrok/zrok enable $token"
   ]
  },
  {
   "cell_type": "markdown",
   "id": "ce49c4d6-f959-4655-9832-d890746db1c0",
   "metadata": {},
   "source": [
    "### Start the WebUI with Zrok"
   ]
  },
  {
   "cell_type": "code",
   "execution_count": null,
   "id": "a08e5d9b-4cea-4179-99ac-951ec9b6485e",
   "metadata": {},
   "outputs": [],
   "source": [
    "# Start the WebUI in GPU mode with Zrok\n",
    "%cd /home/studio-lab-user/Auto1111/stable-diffusion-webui\n",
    "command = 'python launch.py --skip-torch-cuda-test'\n",
    "port = '7860'\n",
    "# ------------------------\n",
    "\n",
    "cmd = f'{command} & /home/studio-lab-user/zrok/zrok share public http://localhost:{port} --headless'\n",
    "get_ipython().system(cmd)"
   ]
  },
  {
   "cell_type": "code",
   "execution_count": null,
   "id": "6bc45bc3-c4f7-4e83-aa61-335b04ba0943",
   "metadata": {},
   "outputs": [],
   "source": [
    "# Start the WebUI in CPU only mode with Zrok\n",
    "%cd /home/studio-lab-user/Auto1111/stable-diffusion-webui\n",
    "command = 'python launch.py --use-cpu all --no-half --skip-torch-cuda-test --enable-insecure-extension-access'\n",
    "port = '7860'\n",
    "# ------------------------\n",
    "\n",
    "cmd = f'{command} & /home/studio-lab-user/zrok/zrok share public http://localhost:{port} --headless'\n",
    "get_ipython().system(cmd)"
   ]
  },
  {
   "cell_type": "markdown",
   "id": "0b312127-35ec-41d8-a133-00166f0a7fbd",
   "metadata": {},
   "source": [
    "---\n",
    "### Disable Zrok \n",
    "This only needs to run if you want to use a new Zrok token"
   ]
  },
  {
   "cell_type": "code",
   "execution_count": null,
   "id": "f7d8b3f8-63e3-43d7-9f8d-d14784929f37",
   "metadata": {
    "tags": []
   },
   "outputs": [],
   "source": [
    "!/home/studio-lab-user/zrok/zrok disable"
   ]
  }
 ],
 "metadata": {
  "kernelspec": {
   "display_name": "default:Python",
   "language": "python",
   "name": "conda-env-default-py"
  },
  "language_info": {
   "codemirror_mode": {
    "name": "ipython",
    "version": 3
   },
   "file_extension": ".py",
   "mimetype": "text/x-python",
   "name": "python",
   "nbconvert_exporter": "python",
   "pygments_lexer": "ipython3",
   "version": "3.9.19"
  }
 },
 "nbformat": 4,
 "nbformat_minor": 5
}
